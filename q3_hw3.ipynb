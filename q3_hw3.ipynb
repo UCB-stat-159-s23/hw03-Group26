{
 "cells": [
  {
   "cell_type": "markdown",
   "id": "0e92f200-b92d-413a-943c-fa66c3c33c96",
   "metadata": {
    "user_expressions": []
   },
   "source": [
    "# Homework 3, Group 26, Question 3 #\n",
    "\n",
    "Recreating the Monthly Mean C02 figure displayed in lecture."
   ]
  },
  {
   "cell_type": "code",
   "execution_count": 2,
   "id": "d3a1ad8e-05c9-45e4-a245-c67e9c62e647",
   "metadata": {},
   "outputs": [],
   "source": [
    "# Import necessary packages #\n",
    "import matplotlib.pyplot as plt\n",
    "import numpy as np\n",
    "import pandas as pd\n",
    "import seaborn as sns\n",
    "import os\n",
    "from scipy.interpolate import CubicSpline\n",
    "\n",
    "from pathlib import Path"
   ]
  },
  {
   "cell_type": "code",
   "execution_count": null,
   "id": "54d2e896-feb4-4774-ade6-3514ce728b04",
   "metadata": {},
   "outputs": [],
   "source": []
  }
 ],
 "metadata": {
  "kernelspec": {
   "display_name": "Python 3 (ipykernel)",
   "language": "python",
   "name": "python3"
  },
  "language_info": {
   "codemirror_mode": {
    "name": "ipython",
    "version": 3
   },
   "file_extension": ".py",
   "mimetype": "text/x-python",
   "name": "python",
   "nbconvert_exporter": "python",
   "pygments_lexer": "ipython3",
   "version": "3.10.8"
  }
 },
 "nbformat": 4,
 "nbformat_minor": 5
}
