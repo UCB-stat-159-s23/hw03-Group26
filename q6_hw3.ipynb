{
 "cells": [
  {
   "cell_type": "markdown",
   "id": "b51e10bf-2904-4952-b665-7ede3be422ed",
   "metadata": {
    "tags": [],
    "user_expressions": []
   },
   "source": [
    "### Question 6"
   ]
  },
  {
   "cell_type": "markdown",
   "id": "de793f25-0418-4ca6-a925-454592d20f61",
   "metadata": {
    "tags": [],
    "user_expressions": []
   },
   "source": [
    "### Figure 3e"
   ]
  },
  {
   "cell_type": "code",
   "execution_count": 10,
   "id": "cefebd47-56a3-4d35-b9ee-4d660eb651d4",
   "metadata": {},
   "outputs": [],
   "source": [
    "import numpy as np\n",
    "import cartopy.crs as ccrs\n",
    "import cartopy.feature as cfeature\n",
    "import fsspec\n",
    "import matplotlib.pyplot as plt\n",
    "\n",
    "import xarray as xr\n",
    "xr.set_options(display_style=\"html\")  # display dataset nicely\n",
    "\n",
    "import warnings\n",
    "warnings.simplefilter(\"ignore\")  # filter some warning messages\n",
    "\n",
    "# code features from https://scitools.org.uk/cartopy/docs/v0.14/matplotlib/feature_interface.html\n",
    "crs = ccrs.PlateCarree()  # set projection"
   ]
  },
  {
   "cell_type": "code",
   "execution_count": 18,
   "id": "d091aadf-16c2-4f57-8959-113a163a32ee",
   "metadata": {},
   "outputs": [],
   "source": [
    "DATA_DIR = Path.home()/Path('shared/climate-data')\n",
    "\n",
    "ds = xr.open_dataset(\"~/shared/climate-data/ds_hw.nc\")"
   ]
  },
  {
   "cell_type": "code",
   "execution_count": 21,
   "id": "4d816d63-8cb5-40de-aab7-a55b9da63164",
   "metadata": {},
   "outputs": [],
   "source": [
    "# setting coordinates to Monterey Bay and subsetting data\n",
    "latitude, longitude = 36.80, 121.94\n",
    "monterey = ds.sel(lat=latitude, lon=longitude, method='nearest')"
   ]
  },
  {
   "cell_type": "code",
   "execution_count": 23,
   "id": "f0524dc8-4d2f-4f63-8fa4-61361f97b615",
   "metadata": {},
   "outputs": [],
   "source": [
    "# celsius and date conversions\n",
    "monterey['sst_celsius'] = monterey.analysed_sst - 273.15\n",
    "monterey.coords['day'] = monterey.time.dt.dayofyear"
   ]
  }
 ],
 "metadata": {
  "kernelspec": {
   "display_name": "Python 3 (ipykernel)",
   "language": "python",
   "name": "python3"
  },
  "language_info": {
   "codemirror_mode": {
    "name": "ipython",
    "version": 3
   },
   "file_extension": ".py",
   "mimetype": "text/x-python",
   "name": "python",
   "nbconvert_exporter": "python",
   "pygments_lexer": "ipython3",
   "version": "3.10.8"
  }
 },
 "nbformat": 4,
 "nbformat_minor": 5
}
