{
 "cells": [
  {
   "cell_type": "code",
   "execution_count": null,
   "id": "746db7b8",
   "metadata": {},
   "outputs": [],
   "source": [
    "import matplotlib.pyplot as plt\n",
    "import numpy as np\n",
    "import cartopy.crs as ccrs\n",
    "import cartopy.feature as cfeature\n",
    "import fsspec\n",
    "import math\n",
    "import matplotlib.pyplot as plt\n",
    "from pathlib import Path\n",
    "\n",
    "# display and warning messages\n",
    "import xarray as xr\n",
    "xr.set_options(display_style=\"html\")  # display dataset nicely\n",
    "import warnings\n",
    "warnings.simplefilter(\"ignore\")  # filter some warning messages\n",
    "\n",
    "# Small style adjustments for more readable plots\n",
    "plt.style.use(\"seaborn-whitegrid\")\n",
    "plt.rcParams[\"figure.figsize\"] = (8, 6)\n",
    "plt.rcParams[\"font.size\"] = 14\n",
    "\n",
    "# code features from https://scitools.org.uk/cartopy/docs/v0.14/matplotlib/feature_interface.html\n",
    "crs = ccrs.PlateCarree()  # set projection"
   ]
  },
  {
   "cell_type": "code",
   "execution_count": null,
   "id": "e56f5b42",
   "metadata": {},
   "outputs": [],
   "source": [
    "# path to dataset\n",
    "DATA_DIR = Path.home()/Path('shared/climate-data')\n",
    "ds = xr.open_dataset(\"~/shared/climate-data/ds_hw.nc\")"
   ]
  },
  {
   "cell_type": "code",
   "execution_count": null,
   "id": "afc986a3",
   "metadata": {},
   "outputs": [],
   "source": [
    "# function for calculating offshore longitude\n",
    "def offshore(lat, long, distance=1):\n",
    "    radius_earth = 6371\n",
    "    lat_rad = np.radians(lat)\n",
    "    long_rad = np.radians(long)\n",
    "    \n",
    "    # calculate distance in longitude\n",
    "    latitude_radius = radius_earth * math.cos(lat_rad)\n",
    "    longitude = (long_rad - (distance / lat_rad)) * (180 / math.pi)\n",
    "    \n",
    "    return longitude"
   ]
  },
  {
   "cell_type": "code",
   "execution_count": null,
   "id": "81521043",
   "metadata": {},
   "outputs": [],
   "source": [
    "# setting coordinates to Monterey, calculating offshore longitude \n",
    "latitude, longitude = 36.80, -121.94\n",
    "offshore_longitude = offshore(latitude, longitude, distance=1)"
   ]
  },
  {
   "cell_type": "code",
   "execution_count": null,
   "id": "d6370995",
   "metadata": {},
   "outputs": [],
   "source": [
    "# celsius conversion\n",
    "ds['sst_celsius'] = ds.analysed_sst - 273.15\n",
    "ds.coords['day_of_year'] = ds.time.dt.dayofyear"
   ]
  },
  {
   "cell_type": "code",
   "execution_count": null,
   "id": "f8a948a5",
   "metadata": {},
   "outputs": [],
   "source": [
    "# making sure to select location using offshore longitude in this case\n",
    "monterey = ds.sel(lat=latitude, lon=offshore_longitude, method='nearest')"
   ]
  },
  {
   "cell_type": "code",
   "execution_count": null,
   "id": "95bd20c9",
   "metadata": {},
   "outputs": [],
   "source": [
    "# rolling average on entire dataset\n",
    "monterey_roll = monterey.sst_celsius.rolling(time = 31, center = True, min_periods = 1).mean()"
   ]
  },
  {
   "cell_type": "code",
   "execution_count": null,
   "id": "6298b6f4",
   "metadata": {},
   "outputs": [],
   "source": [
    "# filter by year\n",
    "monterey_14 = monterey_roll.sel(time='2014')\n",
    "monterey_15 = monterey_roll.sel(time='2015')\n",
    "monterey_16 = monterey_roll.sel(time='2016')\n",
    "\n",
    "# rolling mean over 2002-2013\n",
    "period = monterey_roll.sel(time=slice('2002','2013')).groupby('day_of_year')\n",
    "rolling_means = monterey_roll.sel(time=slice('2002','2013')).groupby('day_of_year').mean()\n",
    "\n",
    "# maxes and mins\n",
    "maxes = monterey_roll.sel(time=slice('2002','2013')).groupby('day_of_year').max()\n",
    "mins = monterey_roll.sel(time=slice('2002','2013')).groupby('day_of_year').min()\n",
    "rolling_means['maxes'] = maxes\n",
    "rolling_means['mins'] = mins\n",
    "\n",
    "# lower and upper bounds std\n",
    "rollings_stds = monterey_roll.sel(time=slice('2002','2013')).groupby('day_of_year').std()\n",
    "rollings_stds['lower'] = rolling_means - rollings_stds\n",
    "rollings_stds['upper'] = rolling_means + rollings_stds"
   ]
  },
  {
   "cell_type": "code",
   "execution_count": null,
   "id": "f6d94f6f",
   "metadata": {},
   "outputs": [],
   "source": [
    "# plot means for 2002-2013\n",
    "rolling_means.plot(x='day_of_year', color='black', zorder=4)\n",
    "\n",
    "# plot 2014, 2015, 2016\n",
    "monterey_14.plot(x='day_of_year', color='blue')\n",
    "monterey_15.plot(x='day_of_year', color='red')\n",
    "monterey_16.plot(x='day_of_year', color='green')\n",
    "\n",
    "# creating gray area of plot with min, man, stds\n",
    "plt.fill_between(rollings_stds.day_of_year, rollings_stds.lower, rollings_stds.upper, zorder=3, color='gray')\n",
    "plt.fill_between(rolling_means.day_of_year, rolling_means.mins, rolling_means.maxes, alpha=0.1, color='black')\n",
    "\n",
    "# plot titles, labels, axes, etc\n",
    "plt.title('36N ~Monterey')\n",
    "plt.grid(False)\n",
    "plt.xticks(np.arange(0, 480, 40), \n",
    "           ['J', 'F', 'M', 'A', 'M', 'J', 'J', 'A', 'S', 'O', 'N', 'D'])  \n",
    "plt.xlabel('Month')\n",
    "plt.ylim(6.5, 23.5)\n",
    "plt.xlim(0, 370)\n",
    "plt.ylabel('SST_offshore(°C)')\n",
    "plt.legend(loc='upper left', labelcolor='linecolor', handlelength=0)\n",
    "\n",
    "plt.savefig('figures/q06_plot.png')"
   ]
  }
 ],
 "metadata": {
  "language_info": {
   "name": "python"
  }
 },
 "nbformat": 4,
 "nbformat_minor": 5
}
